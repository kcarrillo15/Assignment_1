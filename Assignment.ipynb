{
 "cells": [
  {
   "cell_type": "code",
   "execution_count": 2,
   "metadata": {},
   "outputs": [
    {
     "name": "stdout",
     "output_type": "stream",
     "text": [
      "1\n",
      "2\n",
      "3\n",
      "4\n",
      "5\n"
     ]
    }
   ],
   "source": [
    "#Part 2\n",
    "\n",
    "#1\n",
    "x = 1 \n",
    "while x < 10:\n",
    "    if x > 5:\n",
    "        break\n",
    "    print(x)\n",
    "    x += 1\n",
    "\n",
    "\n",
    "    "
   ]
  },
  {
   "cell_type": "code",
   "execution_count": 3,
   "metadata": {},
   "outputs": [
    {
     "name": "stdout",
     "output_type": "stream",
     "text": [
      "Character: C, ASCII value: 67\n",
      "Character: I, ASCII value: 73\n",
      "Character: S, ASCII value: 83\n",
      "Character: 1, ASCII value: 49\n",
      "Character: 0, ASCII value: 48\n",
      "Character: 3, ASCII value: 51\n"
     ]
    }
   ],
   "source": [
    "for char in \"CIS103\":\n",
    "    print(f\"Character: {char}, ASCII value: {ord(char)}\")\n"
   ]
  },
  {
   "cell_type": "code",
   "execution_count": null,
   "metadata": {},
   "outputs": [],
   "source": [
    "for i in range(1, 5):\n",
    "    print('*' * i)\n"
   ]
  },
  {
   "cell_type": "code",
   "execution_count": null,
   "metadata": {},
   "outputs": [],
   "source": [
    "def reverse_string(s):\n",
    "    return s[::-1]\n",
    "\n",
    "print(reverse_string(\"Python\"))\n"
   ]
  },
  {
   "cell_type": "code",
   "execution_count": null,
   "metadata": {},
   "outputs": [],
   "source": [
    "name = \"John\"\n",
    "age = 30\n",
    "salary = 50000.50\n",
    "\n",
    "formatted_output = f\"Name: {name:<10}, Age: {age:<3}, Salary: ${salary:,.2f}\"\n",
    "print(formatted_output)\n"
   ]
  },
  {
   "cell_type": "code",
   "execution_count": null,
   "metadata": {},
   "outputs": [],
   "source": [
    "# Create a list of integers\n",
    "numbers = [10, 20, 30, 40, 50]\n",
    "\n",
    "\n",
    "numbers.append(60)\n",
    "\n",
    "\n",
    "numbers.insert(2, 25)\n",
    "\n",
    "\n",
    "numbers.sort()\n",
    "\n",
    "\n",
    "last_element = numbers.pop()\n",
    "print(f\"Popped element: {last_element}\")\n",
    "\n",
    "\n",
    "numbers.remove(25)\n",
    "\n",
    "print(numbers)\n"
   ]
  },
  {
   "cell_type": "code",
   "execution_count": 6,
   "metadata": {},
   "outputs": [
    {
     "name": "stdout",
     "output_type": "stream",
     "text": [
      "First element: 1\n",
      "Last element: 5\n",
      "Error: 'tuple' object does not support item assignment\n"
     ]
    }
   ],
   "source": [
    "\n",
    "my_tuple = (1, 2, 3, 4, 5)\n",
    "\n",
    "\n",
    "print(f\"First element: {my_tuple[0]}\")\n",
    "print(f\"Last element: {my_tuple[-1]}\")\n",
    "\n",
    "\n",
    "try:\n",
    "    my_tuple[0] = 10\n",
    "except TypeError as e:\n",
    "    print(f\"Error: {e}\")\n"
   ]
  },
  {
   "cell_type": "code",
   "execution_count": 5,
   "metadata": {},
   "outputs": [
    {
     "name": "stdout",
     "output_type": "stream",
     "text": [
      "name: John\n",
      "age: 26\n",
      "profession: Engineer\n"
     ]
    }
   ],
   "source": [
    "# Create a dictionary\n",
    "my_dict = {'name': 'John', 'age': 25, 'city': 'New York'}\n",
    "\n",
    "\n",
    "my_dict['profession'] = 'Engineer'\n",
    "\n",
    "\n",
    "my_dict['age'] = 26\n",
    "\n",
    "\n",
    "del my_dict['city']\n",
    "\n",
    "\n",
    "for key, value in my_dict.items():\n",
    "    print(f\"{key}: {value}\")\n"
   ]
  },
  {
   "cell_type": "code",
   "execution_count": 4,
   "metadata": {},
   "outputs": [
    {
     "name": "stdout",
     "output_type": "stream",
     "text": [
      "1\n",
      "2\n",
      "3\n",
      "4\n",
      "6\n",
      "7\n",
      "8\n"
     ]
    }
   ],
   "source": [
    "i = 1\n",
    "while i <= 10:\n",
    "    if i == 5:\n",
    "        i += 1\n",
    "        continue  \n",
    "    if i > 8:\n",
    "        break  \n",
    "    print(i)\n",
    "    i += 1\n"
   ]
  }
 ],
 "metadata": {
  "kernelspec": {
   "display_name": "Python 3",
   "language": "python",
   "name": "python3"
  },
  "language_info": {
   "codemirror_mode": {
    "name": "ipython",
    "version": 3
   },
   "file_extension": ".py",
   "mimetype": "text/x-python",
   "name": "python",
   "nbconvert_exporter": "python",
   "pygments_lexer": "ipython3",
   "version": "3.10.4"
  }
 },
 "nbformat": 4,
 "nbformat_minor": 2
}
